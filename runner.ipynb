{
 "cells": [
  {
   "cell_type": "code",
   "execution_count": null,
   "metadata": {},
   "outputs": [],
   "source": [
    "import os\n",
    "import torch\n",
    "from torch.nn import functional as F\n",
    "from torch.utils.data import DataLoader\n",
    "from torch.utils.data.dataset import random_split\n",
    "from data.dataset import DCMDataset\n",
    "from data.loader import dataset_collate\n",
    "from model.simple_classification import DicomClassifier\n",
    "from tqdm import tqdm\n"
   ]
  },
  {
   "cell_type": "code",
   "execution_count": null,
   "metadata": {},
   "outputs": [],
   "source": [
    "model = DicomClassifier()\n",
    "device = torch.device('cuda' if torch.cuda.is_available() else 'cpu')\n"
   ]
  },
  {
   "cell_type": "code",
   "execution_count": null,
   "metadata": {},
   "outputs": [],
   "source": [
    "SPLIT_SIZE = 0.5\n",
    "TRAIN_BATCH_SIZE = 8\n",
    "ACCUMULATION_STEPS = 4\n",
    "LR = 0.001\n",
    "EPOCHS = 100\n",
    "CHECKPOINT_STEP = 3\n",
    "CHECKPOINT_DIR = 'checkpoints'\n",
    "\n",
    "LOAD_CHAECKPOINT = '/home/patrick/Workspace/Research/Cancer classification/checkpoints/epoch-3.pth'\n"
   ]
  },
  {
   "cell_type": "code",
   "execution_count": null,
   "metadata": {},
   "outputs": [],
   "source": [
    "optimizer = torch.optim.Adam(model.parameters(), lr=LR)\n",
    "scheduler = torch.optim.lr_scheduler.StepLR(optimizer, step_size=1, gamma=0.9)\n",
    "\n",
    "dataset = DCMDataset('Raw Data', 'Raw Data/mammogram.csv', dataset_collate)\n",
    "train_dataset, test_dataset = random_split(\n",
    "    dataset, [int(len(dataset)*SPLIT_SIZE), len(dataset)-int(len(dataset)*SPLIT_SIZE)])\n",
    "train_dataloader = DataLoader(\n",
    "    train_dataset, batch_size=TRAIN_BATCH_SIZE, shuffle=True)\n",
    "\n",
    "model.to(device)\n",
    "if LOAD_CHAECKPOINT:\n",
    "    model.load_state_dict(torch.load(LOAD_CHAECKPOINT))\n"
   ]
  },
  {
   "cell_type": "code",
   "execution_count": null,
   "metadata": {},
   "outputs": [],
   "source": [
    "if CHECKPOINT_STEP and not os.path.exists(CHECKPOINT_DIR):\n",
    "    os.mkdir(CHECKPOINT_DIR)\n",
    "\n",
    "with torch.enable_grad():\n",
    "    model.train()\n",
    "    for epoch in range(EPOCHS):\n",
    "        total_loss = 0\n",
    "        with tqdm(train_dataloader, leave=False) as dataloader:\n",
    "            for batch_idx, (data, label) in enumerate(dataloader):\n",
    "                data = data.to(device)\n",
    "                label = label.to(device)\n",
    "                output = model(data)\n",
    "                loss = F.binary_cross_entropy_with_logits(\n",
    "                    output, label) / ACCUMULATION_STEPS\n",
    "                total_loss += loss.item()\n",
    "                del data, label\n",
    "                loss.backward()\n",
    "                if ((batch_idx + 1) % ACCUMULATION_STEPS == 0) or (batch_idx + 1 == len(dataloader)):\n",
    "                    optimizer.step()\n",
    "                    optimizer.zero_grad()\n",
    "                dataloader.set_postfix(loss=loss.item())\n",
    "            scheduler.step()\n",
    "        dataloader.set_description(f'Epoch: {epoch}',)\n",
    "        if epoch % CHECKPOINT_STEP == 0 and CHECKPOINT_STEP != 0:\n",
    "            torch.save(\n",
    "                model.state_dict(), f'{CHECKPOINT_DIR}/{model.name if \"name\" in model else \"unknown\"}/epoch-{epoch + 1}-{total_loss:.4f}.pth')\n",
    "        print(\"Epoch: \", epoch + 1, \"\\tLoss: \", total_loss)\n"
   ]
  }
 ],
 "metadata": {
  "language_info": {
   "name": "python"
  },
  "orig_nbformat": 4
 },
 "nbformat": 4,
 "nbformat_minor": 2
}
